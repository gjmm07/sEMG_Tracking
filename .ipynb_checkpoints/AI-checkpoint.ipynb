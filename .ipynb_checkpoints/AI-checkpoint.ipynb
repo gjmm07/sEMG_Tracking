{
 "cells": [
  {
   "cell_type": "markdown",
   "id": "ec9499ee",
   "metadata": {},
   "source": [
    "# This is a juypter notebook classifing gestures based on sEMG-Signals. \n",
    "The Data is aquiered from: https://archive.ics.uci.edu/ml/datasets/sEMG+for+Basic+Hand+movements\n"
   ]
  },
  {
   "cell_type": "code",
   "execution_count": 308,
   "id": "3918ae9a",
   "metadata": {},
   "outputs": [],
   "source": [
    "import numpy as np \n",
    "import pandas as pd\n",
    "import scipy.io\n"
   ]
  },
  {
   "cell_type": "code",
   "execution_count": 309,
   "id": "a56135e2",
   "metadata": {},
   "outputs": [],
   "source": [
    "mat = scipy.io.loadmat('sEMG_data/Database 1/female_1.mat')"
   ]
  },
  {
   "cell_type": "code",
   "execution_count": 310,
   "id": "2f6c4ce6",
   "metadata": {},
   "outputs": [
    {
     "name": "stdout",
     "output_type": "stream",
     "text": [
      "(30, 3000)\n"
     ]
    },
    {
     "data": {
      "text/plain": [
       "dict_keys(['__header__', '__version__', '__globals__', 'cyl_ch1', 'cyl_ch2', 'hook_ch1', 'hook_ch2', 'tip_ch1', 'tip_ch2', 'palm_ch1', 'palm_ch2', 'spher_ch1', 'spher_ch2', 'lat_ch1', 'lat_ch2'])"
      ]
     },
     "execution_count": 310,
     "metadata": {},
     "output_type": "execute_result"
    }
   ],
   "source": [
    "print(mat[\"cyl_ch2\"].shape)\n",
    "mat.keys()"
   ]
  },
  {
   "cell_type": "markdown",
   "id": "b3a688a2",
   "metadata": {},
   "source": [
    "# Make Numpy array from MATLAB Structured array\n",
    "\n",
    "As there are two sensors the data aquired by each sensor is depth stacked, while the time is horizontal stacked and the gestures are vertical stacked "
   ]
  },
  {
   "cell_type": "code",
   "execution_count": 311,
   "id": "783153f5",
   "metadata": {},
   "outputs": [],
   "source": [
    "fs_items, ss_items = [],[]\n",
    "output = []\n",
    "for fsensor, ssensor in list(zip(list(mat.keys())[3:][::2], list(mat.keys())[3:][1::2])):\n",
    "    fs_items.append(mat[fsensor])\n",
    "    ss_items.append(mat[ssensor])\n",
    "    output.extend([fsensor.split(\"_\")[0]] * len(mat[fsensor]))\n",
    "arr = np.dstack([np.vstack(fs_items), np.vstack(ss_items)])\n",
    "output = np.vstack(output)"
   ]
  },
  {
   "cell_type": "code",
   "execution_count": 312,
   "id": "d1bee0db",
   "metadata": {},
   "outputs": [
    {
     "name": "stdout",
     "output_type": "stream",
     "text": [
      "(180, 3000, 2)\n"
     ]
    }
   ],
   "source": [
    "print(arr.shape)"
   ]
  },
  {
   "cell_type": "code",
   "execution_count": 313,
   "id": "6467ba8c",
   "metadata": {},
   "outputs": [
    {
     "name": "stdout",
     "output_type": "stream",
     "text": [
      "(180, 1)\n"
     ]
    }
   ],
   "source": [
    "print(output.shape)"
   ]
  },
  {
   "cell_type": "markdown",
   "id": "58379b35",
   "metadata": {},
   "source": [
    "### One-Hot-Encoding\n",
    "\n",
    "The outcome (gestures) shall be one-hot encoded"
   ]
  },
  {
   "cell_type": "code",
   "execution_count": 314,
   "id": "77eee9fc",
   "metadata": {},
   "outputs": [
    {
     "data": {
      "text/plain": [
       "(array(['cyl', 'hook', 'lat', 'palm', 'spher', 'tip'], dtype='<U5'),\n",
       " array([0, 0, 0, 0, 0, 0, 0, 0, 0, 0, 0, 0, 0, 0, 0, 0, 0, 0, 0, 0, 0, 0,\n",
       "        0, 0, 0, 0, 0, 0, 0, 0, 1, 1, 1, 1, 1, 1, 1, 1, 1, 1, 1, 1, 1, 1,\n",
       "        1, 1, 1, 1, 1, 1, 1, 1, 1, 1, 1, 1, 1, 1, 1, 1, 2, 2, 2, 2, 2, 2,\n",
       "        2, 2, 2, 2, 2, 2, 2, 2, 2, 2, 2, 2, 2, 2, 2, 2, 2, 2, 2, 2, 2, 2,\n",
       "        2, 2, 3, 3, 3, 3, 3, 3, 3, 3, 3, 3, 3, 3, 3, 3, 3, 3, 3, 3, 3, 3,\n",
       "        3, 3, 3, 3, 3, 3, 3, 3, 3, 3, 4, 4, 4, 4, 4, 4, 4, 4, 4, 4, 4, 4,\n",
       "        4, 4, 4, 4, 4, 4, 4, 4, 4, 4, 4, 4, 4, 4, 4, 4, 4, 4, 5, 5, 5, 5,\n",
       "        5, 5, 5, 5, 5, 5, 5, 5, 5, 5, 5, 5, 5, 5, 5, 5, 5, 5, 5, 5, 5, 5,\n",
       "        5, 5, 5, 5]))"
      ]
     },
     "execution_count": 314,
     "metadata": {},
     "output_type": "execute_result"
    }
   ],
   "source": [
    "from keras.utils import to_categorical\n",
    "\n",
    "str_obj, encoded_obj = np.unique(output, return_inverse=True)\n",
    "encoded_obj = np.sort(encoded_obj)\n",
    "str_obj, encoded_obj"
   ]
  },
  {
   "cell_type": "code",
   "execution_count": 315,
   "id": "995722d2",
   "metadata": {
    "scrolled": true
   },
   "outputs": [
    {
     "name": "stdout",
     "output_type": "stream",
     "text": [
      "cyl belogs to [0. 0. 0. 0. 0. 1.] hook belogs to [0. 0. 0. 0. 1. 0.] lat belogs to [0. 0. 0. 1. 0. 0.] palm belogs to [0. 0. 1. 0. 0. 0.] spher belogs to [0. 1. 0. 0. 0. 0.] tip belogs to [1. 0. 0. 0. 0. 0.]\n"
     ]
    }
   ],
   "source": [
    "output= to_categorical(encoded_obj)\n",
    "\n",
    "print(*[\"{} belogs to {}\".format(x, y) for x, y in zip(str_obj, np.unique(output, axis=0))])"
   ]
  },
  {
   "cell_type": "markdown",
   "id": "bae7f91c",
   "metadata": {},
   "source": [
    "### Sliding windows on the data \n",
    "\n",
    "The data is sampled at a sample rate of 500Hz. 3000 datapoints lead to a recording time of 6s. \n",
    "Every sliding window shall be 200ms long with a 50% overlap. Leading to: 200/1000 * 500 = 100 values per window"
   ]
  },
  {
   "cell_type": "code",
   "execution_count": 316,
   "id": "fdaf6624",
   "metadata": {},
   "outputs": [
    {
     "data": {
      "text/plain": [
       "array([[ 0,  1,  2,  3],\n",
       "       [ 2,  3,  4,  5],\n",
       "       [ 4,  5,  6,  7],\n",
       "       [ 6,  7,  8,  9],\n",
       "       [ 8,  9, 10, 11]])"
      ]
     },
     "execution_count": 316,
     "metadata": {},
     "output_type": "execute_result"
    }
   ],
   "source": [
    "from numpy.lib.stride_tricks import sliding_window_view\n",
    "x = np.arange(12)\n",
    "v = sliding_window_view(x, 4)[::2]\n",
    "v"
   ]
  },
  {
   "cell_type": "markdown",
   "id": "99861044",
   "metadata": {},
   "source": [
    "##### Sliding Window for one row"
   ]
  },
  {
   "cell_type": "code",
   "execution_count": 317,
   "id": "02d186c8",
   "metadata": {},
   "outputs": [
    {
     "data": {
      "text/plain": [
       "array([0.14526026, 0.14424018, 0.14819295, 0.14500529, 0.14207263,\n",
       "       0.13748232, 0.13238199, 0.13161696, 0.13416714, 0.1447503 ,\n",
       "       0.13799236, 0.1391399 , 0.14105252, 0.14105256, 0.13799237,\n",
       "       0.13085188, 0.12562403, 0.14538781, 0.14883053, 0.13148941,\n",
       "       0.1452603 , 0.15048814, 0.15036063, 0.1436027 , 0.14870302,\n",
       "       0.14041495, 0.13607967, 0.14462274, 0.14169005])"
      ]
     },
     "execution_count": 317,
     "metadata": {},
     "output_type": "execute_result"
    }
   ],
   "source": [
    "v = np.mean(sliding_window_view(arr[0, :, 0], 200)[::100], axis=1)\n",
    "v"
   ]
  },
  {
   "cell_type": "markdown",
   "id": "2a2fd667",
   "metadata": {},
   "source": [
    "##### Sliding window for 2d-Array "
   ]
  },
  {
   "cell_type": "code",
   "execution_count": 318,
   "id": "f52d36f2",
   "metadata": {},
   "outputs": [
    {
     "data": {
      "text/plain": [
       "array([[ 0,  1,  2,  3,  4,  5,  6],\n",
       "       [ 7,  8,  9, 10, 11, 12, 13],\n",
       "       [14, 15, 16, 17, 18, 19, 20],\n",
       "       [21, 22, 23, 24, 25, 26, 27]])"
      ]
     },
     "execution_count": 318,
     "metadata": {},
     "output_type": "execute_result"
    }
   ],
   "source": [
    "a = np.arange(28).reshape(4, 7)\n",
    "a"
   ]
  },
  {
   "cell_type": "code",
   "execution_count": 319,
   "id": "965dc900",
   "metadata": {},
   "outputs": [
    {
     "data": {
      "text/plain": [
       "(4, 7)"
      ]
     },
     "execution_count": 319,
     "metadata": {},
     "output_type": "execute_result"
    }
   ],
   "source": [
    "a.shape"
   ]
  },
  {
   "cell_type": "code",
   "execution_count": 320,
   "id": "ee1767c4",
   "metadata": {},
   "outputs": [
    {
     "data": {
      "text/plain": [
       "array([[[[ 0,  1,  2],\n",
       "         [ 7,  8,  9],\n",
       "         [14, 15, 16],\n",
       "         [21, 22, 23]],\n",
       "\n",
       "        [[ 2,  3,  4],\n",
       "         [ 9, 10, 11],\n",
       "         [16, 17, 18],\n",
       "         [23, 24, 25]],\n",
       "\n",
       "        [[ 4,  5,  6],\n",
       "         [11, 12, 13],\n",
       "         [18, 19, 20],\n",
       "         [25, 26, 27]]]])"
      ]
     },
     "execution_count": 320,
     "metadata": {},
     "output_type": "execute_result"
    }
   ],
   "source": [
    "v = sliding_window_view(a, (4, 3))[:, ::2]\n",
    "v"
   ]
  },
  {
   "cell_type": "code",
   "execution_count": 323,
   "id": "876d0bda",
   "metadata": {},
   "outputs": [
    {
     "data": {
      "text/plain": [
       "(180, 3000, 2)"
      ]
     },
     "execution_count": 323,
     "metadata": {},
     "output_type": "execute_result"
    }
   ],
   "source": [
    "arr.shape"
   ]
  },
  {
   "cell_type": "code",
   "execution_count": 329,
   "id": "3deb1f84",
   "metadata": {},
   "outputs": [],
   "source": [
    "v = sliding_window_view(arr[:, :, 0], window_shape=(180, 200))[:, ::50]"
   ]
  },
  {
   "cell_type": "code",
   "execution_count": 332,
   "id": "59b757cd",
   "metadata": {},
   "outputs": [
    {
     "data": {
      "text/plain": [
       "0.14526025500000006"
      ]
     },
     "execution_count": 332,
     "metadata": {},
     "output_type": "execute_result"
    }
   ],
   "source": [
    "window_arr = np.mean(v, axis=3)[0].T\n",
    "window_arr[0, 0]"
   ]
  },
  {
   "cell_type": "code",
   "execution_count": 327,
   "id": "77c61721",
   "metadata": {},
   "outputs": [
    {
     "data": {
      "text/plain": [
       "0.145260255"
      ]
     },
     "execution_count": 327,
     "metadata": {},
     "output_type": "execute_result"
    }
   ],
   "source": [
    "np.sum(arr[0, :200, 0])/200"
   ]
  },
  {
   "cell_type": "markdown",
   "id": "cdcf4ae3",
   "metadata": {},
   "source": [
    "### Sliding windows on 3D-Array \n",
    "\n",
    "I tried applying this to 3D-Array but it did'nt work. Use for-loop instead"
   ]
  },
  {
   "cell_type": "code",
   "execution_count": 334,
   "id": "51ba1742",
   "metadata": {},
   "outputs": [
    {
     "data": {
      "text/plain": [
       "array([[ 0.072198,  0.276211,  0.429221, ..., -2.528968,  0.0977  ,\n",
       "         0.837247],\n",
       "       [ 0.25071 ,  0.301713,  0.199706, ..., -0.616346,  0.454723,\n",
       "         0.021195],\n",
       "       [ 0.123201,  0.148703,  0.148703, ..., -0.36133 ,  0.505726,\n",
       "         0.607732],\n",
       "       ...,\n",
       "       [ 0.0977  , -0.106313, -0.004307, ...,  0.174205,  0.072198,\n",
       "        -0.029808],\n",
       "       [ 0.199706,  0.327214,  0.123201, ...,  0.199706,  0.429221,\n",
       "         0.199706],\n",
       "       [ 0.174205,  0.454723,  0.072198, ...,  0.046696,  0.046696,\n",
       "         0.199706]])"
      ]
     },
     "execution_count": 334,
     "metadata": {},
     "output_type": "execute_result"
    }
   ],
   "source": [
    "arr[:, :, 0]"
   ]
  },
  {
   "cell_type": "code",
   "execution_count": 397,
   "id": "9c691e64",
   "metadata": {},
   "outputs": [],
   "source": [
    "def apply_sliding_windows(array, window_size=200, overlap=None): \n",
    "    if overlap is None: \n",
    "        overlap = int(0.25 * window_size)\n",
    "    windows = sliding_window_view(array, window_shape=(array.shape[0], window_size))[:, ::overlap]\n",
    "    return np.mean(windows, axis=3)[0].T"
   ]
  },
  {
   "cell_type": "code",
   "execution_count": 398,
   "id": "88f4d227",
   "metadata": {},
   "outputs": [
    {
     "data": {
      "text/plain": [
       "0.14424018"
      ]
     },
     "execution_count": 398,
     "metadata": {},
     "output_type": "execute_result"
    }
   ],
   "source": [
    "# check \n",
    "arr.shape\n",
    "np.sum(arr[0, 100:300, 0]) / 200 "
   ]
  },
  {
   "cell_type": "code",
   "execution_count": 399,
   "id": "32ff6487",
   "metadata": {},
   "outputs": [
    {
     "data": {
      "text/plain": [
       "0.14424018"
      ]
     },
     "execution_count": 399,
     "metadata": {},
     "output_type": "execute_result"
    }
   ],
   "source": [
    "apply_sliding_windows(arr[:, :, 0])[0, 2]"
   ]
  },
  {
   "cell_type": "code",
   "execution_count": 401,
   "id": "35d8a7a2",
   "metadata": {},
   "outputs": [
    {
     "data": {
      "text/plain": [
       "array([[ 1.5,  2.5,  3.5,  4.5],\n",
       "       [ 8.5,  9.5, 10.5, 11.5],\n",
       "       [15.5, 16.5, 17.5, 18.5],\n",
       "       [22.5, 23.5, 24.5, 25.5]])"
      ]
     },
     "execution_count": 401,
     "metadata": {},
     "output_type": "execute_result"
    }
   ],
   "source": [
    "a = np.arange(28).reshape(4, 7)\n",
    "apply_sliding_windows(a, 4)"
   ]
  },
  {
   "cell_type": "code",
   "execution_count": 425,
   "id": "c1e13621",
   "metadata": {},
   "outputs": [
    {
     "data": {
      "text/plain": [
       "array([[ 0,  1,  2,  3,  4,  5,  6],\n",
       "       [ 7,  8,  9, 10, 11, 12, 13],\n",
       "       [14, 15, 16, 17, 18, 19, 20],\n",
       "       [21, 22, 23, 24, 25, 26, 27]])"
      ]
     },
     "execution_count": 425,
     "metadata": {},
     "output_type": "execute_result"
    }
   ],
   "source": [
    "b = np.arange(28).reshape(4, 7)\n",
    "c = np.arange(28, 56).reshape(4, 7)\n",
    "d = np.dstack([b, c])\n",
    "d[:, :, 0]"
   ]
  },
  {
   "cell_type": "code",
   "execution_count": null,
   "id": "cd37ba2d",
   "metadata": {},
   "outputs": [],
   "source": []
  }
 ],
 "metadata": {
  "kernelspec": {
   "display_name": "Python 3 (ipykernel)",
   "language": "python",
   "name": "python3"
  },
  "language_info": {
   "codemirror_mode": {
    "name": "ipython",
    "version": 3
   },
   "file_extension": ".py",
   "mimetype": "text/x-python",
   "name": "python",
   "nbconvert_exporter": "python",
   "pygments_lexer": "ipython3",
   "version": "3.9.15"
  }
 },
 "nbformat": 4,
 "nbformat_minor": 5
}
