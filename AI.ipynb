{
 "cells": [
  {
   "cell_type": "markdown",
   "id": "ec9499ee",
   "metadata": {},
   "source": [
    "# This is a juypter notebook classifing gestures based on sEMG-Signals. \n",
    "The Data is aquiered from: https://archive.ics.uci.edu/ml/datasets/sEMG+for+Basic+Hand+movements\n"
   ]
  },
  {
   "cell_type": "code",
   "execution_count": 142,
   "id": "3918ae9a",
   "metadata": {},
   "outputs": [],
   "source": [
    "import numpy as np \n",
    "import pandas as pd\n",
    "import scipy.io\n"
   ]
  },
  {
   "cell_type": "code",
   "execution_count": 143,
   "id": "a56135e2",
   "metadata": {},
   "outputs": [],
   "source": [
    "mat = scipy.io.loadmat('sEMG_data/Database 1/female_1.mat')"
   ]
  },
  {
   "cell_type": "code",
   "execution_count": 144,
   "id": "2f6c4ce6",
   "metadata": {},
   "outputs": [
    {
     "name": "stdout",
     "output_type": "stream",
     "text": [
      "(30, 3000)\n"
     ]
    },
    {
     "data": {
      "text/plain": [
       "dict_keys(['__header__', '__version__', '__globals__', 'cyl_ch1', 'cyl_ch2', 'hook_ch1', 'hook_ch2', 'tip_ch1', 'tip_ch2', 'palm_ch1', 'palm_ch2', 'spher_ch1', 'spher_ch2', 'lat_ch1', 'lat_ch2'])"
      ]
     },
     "execution_count": 144,
     "metadata": {},
     "output_type": "execute_result"
    }
   ],
   "source": [
    "print(mat[\"cyl_ch2\"].shape)\n",
    "mat.keys()"
   ]
  },
  {
   "cell_type": "markdown",
   "id": "b3a688a2",
   "metadata": {},
   "source": [
    "# Make Numpy array from MATLAB Structured array\n",
    "\n",
    "As there are two sensors the data aquired by each sensor is depth stacked, while the time is horizontal stacked and the gestures are vertical stacked "
   ]
  },
  {
   "cell_type": "code",
   "execution_count": 145,
   "id": "783153f5",
   "metadata": {},
   "outputs": [],
   "source": [
    "fs_items, ss_items = [],[]\n",
    "output = []\n",
    "for fsensor, ssensor in list(zip(list(mat.keys())[3:][::2], list(mat.keys())[3:][1::2])):\n",
    "    fs_items.append(mat[fsensor])\n",
    "    ss_items.append(mat[ssensor])\n",
    "    output.extend([fsensor.split(\"_\")[0]] * len(mat[fsensor]))\n",
    "arr = np.dstack([np.vstack(fs_items), np.vstack(ss_items)])\n",
    "output = np.vstack(output)"
   ]
  },
  {
   "cell_type": "code",
   "execution_count": 146,
   "id": "d1bee0db",
   "metadata": {},
   "outputs": [
    {
     "name": "stdout",
     "output_type": "stream",
     "text": [
      "(180, 3000, 2)\n"
     ]
    }
   ],
   "source": [
    "print(arr.shape)"
   ]
  },
  {
   "cell_type": "code",
   "execution_count": 147,
   "id": "6467ba8c",
   "metadata": {},
   "outputs": [
    {
     "name": "stdout",
     "output_type": "stream",
     "text": [
      "(180, 1)\n"
     ]
    }
   ],
   "source": [
    "print(output.shape)"
   ]
  },
  {
   "cell_type": "markdown",
   "id": "58379b35",
   "metadata": {},
   "source": [
    "### One-Hot-Encoding\n",
    "\n",
    "The outcome (gestures) shall be one-hot encoded"
   ]
  },
  {
   "cell_type": "code",
   "execution_count": 148,
   "id": "77eee9fc",
   "metadata": {},
   "outputs": [
    {
     "data": {
      "text/plain": [
       "(array(['cyl', 'hook', 'lat', 'palm', 'spher', 'tip'], dtype='<U5'),\n",
       " array([0, 0, 0, 0, 0, 0, 0, 0, 0, 0, 0, 0, 0, 0, 0, 0, 0, 0, 0, 0, 0, 0,\n",
       "        0, 0, 0, 0, 0, 0, 0, 0, 1, 1, 1, 1, 1, 1, 1, 1, 1, 1, 1, 1, 1, 1,\n",
       "        1, 1, 1, 1, 1, 1, 1, 1, 1, 1, 1, 1, 1, 1, 1, 1, 2, 2, 2, 2, 2, 2,\n",
       "        2, 2, 2, 2, 2, 2, 2, 2, 2, 2, 2, 2, 2, 2, 2, 2, 2, 2, 2, 2, 2, 2,\n",
       "        2, 2, 3, 3, 3, 3, 3, 3, 3, 3, 3, 3, 3, 3, 3, 3, 3, 3, 3, 3, 3, 3,\n",
       "        3, 3, 3, 3, 3, 3, 3, 3, 3, 3, 4, 4, 4, 4, 4, 4, 4, 4, 4, 4, 4, 4,\n",
       "        4, 4, 4, 4, 4, 4, 4, 4, 4, 4, 4, 4, 4, 4, 4, 4, 4, 4, 5, 5, 5, 5,\n",
       "        5, 5, 5, 5, 5, 5, 5, 5, 5, 5, 5, 5, 5, 5, 5, 5, 5, 5, 5, 5, 5, 5,\n",
       "        5, 5, 5, 5]))"
      ]
     },
     "execution_count": 148,
     "metadata": {},
     "output_type": "execute_result"
    }
   ],
   "source": [
    "from keras.utils import to_categorical\n",
    "\n",
    "str_obj, encoded_obj = np.unique(output, return_inverse=True)\n",
    "encoded_obj = np.sort(encoded_obj)\n",
    "str_obj, encoded_obj"
   ]
  },
  {
   "cell_type": "code",
   "execution_count": 149,
   "id": "995722d2",
   "metadata": {
    "scrolled": true
   },
   "outputs": [
    {
     "name": "stdout",
     "output_type": "stream",
     "text": [
      "cyl belogs to [0. 0. 0. 0. 0. 1.] \n",
      " hook belogs to [0. 0. 0. 0. 1. 0.] \n",
      " lat belogs to [0. 0. 0. 1. 0. 0.] \n",
      " palm belogs to [0. 0. 1. 0. 0. 0.] \n",
      " spher belogs to [0. 1. 0. 0. 0. 0.] \n",
      " tip belogs to [1. 0. 0. 0. 0. 0.] \n",
      "\n"
     ]
    }
   ],
   "source": [
    "output = to_categorical(encoded_obj)\n",
    "\n",
    "print(*[\"{} belogs to {} \\n\".format(x, y) for x, y in zip(str_obj, np.unique(output, axis=0))])"
   ]
  },
  {
   "cell_type": "markdown",
   "id": "bae7f91c",
   "metadata": {},
   "source": [
    "### Sliding windows on the data \n",
    "\n",
    "The data is sampled at a sample rate of 500Hz. 3000 datapoints lead to a recording time of 6s. \n",
    "Every sliding window shall be 200ms long with a 50% overlap. Leading to: 200/1000 * 500 = 100 values per window"
   ]
  },
  {
   "cell_type": "code",
   "execution_count": 150,
   "id": "fdaf6624",
   "metadata": {},
   "outputs": [
    {
     "data": {
      "text/plain": [
       "array([[ 0,  1,  2,  3],\n",
       "       [ 2,  3,  4,  5],\n",
       "       [ 4,  5,  6,  7],\n",
       "       [ 6,  7,  8,  9],\n",
       "       [ 8,  9, 10, 11]])"
      ]
     },
     "execution_count": 150,
     "metadata": {},
     "output_type": "execute_result"
    }
   ],
   "source": [
    "from numpy.lib.stride_tricks import sliding_window_view\n",
    "x = np.arange(12)\n",
    "v = sliding_window_view(x, 4)[::2]\n",
    "v"
   ]
  },
  {
   "cell_type": "markdown",
   "id": "99861044",
   "metadata": {},
   "source": [
    "##### Sliding Window for one row"
   ]
  },
  {
   "cell_type": "code",
   "execution_count": 151,
   "id": "02d186c8",
   "metadata": {},
   "outputs": [
    {
     "data": {
      "text/plain": [
       "array([0.14526026, 0.14424018, 0.14819295, 0.14500529, 0.14207263,\n",
       "       0.13748232, 0.13238199, 0.13161696, 0.13416714, 0.1447503 ,\n",
       "       0.13799236, 0.1391399 , 0.14105252, 0.14105256, 0.13799237,\n",
       "       0.13085188, 0.12562403, 0.14538781, 0.14883053, 0.13148941,\n",
       "       0.1452603 , 0.15048814, 0.15036063, 0.1436027 , 0.14870302,\n",
       "       0.14041495, 0.13607967, 0.14462274, 0.14169005])"
      ]
     },
     "execution_count": 151,
     "metadata": {},
     "output_type": "execute_result"
    }
   ],
   "source": [
    "v = np.mean(sliding_window_view(arr[0, :, 0], 200)[::100], axis=1)\n",
    "v"
   ]
  },
  {
   "cell_type": "markdown",
   "id": "2a2fd667",
   "metadata": {},
   "source": [
    "##### Sliding window for 2d-Array "
   ]
  },
  {
   "cell_type": "code",
   "execution_count": 152,
   "id": "f52d36f2",
   "metadata": {},
   "outputs": [
    {
     "data": {
      "text/plain": [
       "array([[ 0,  1,  2,  3,  4,  5,  6],\n",
       "       [ 7,  8,  9, 10, 11, 12, 13],\n",
       "       [14, 15, 16, 17, 18, 19, 20],\n",
       "       [21, 22, 23, 24, 25, 26, 27]])"
      ]
     },
     "execution_count": 152,
     "metadata": {},
     "output_type": "execute_result"
    }
   ],
   "source": [
    "a = np.arange(28).reshape(4, 7)\n",
    "a"
   ]
  },
  {
   "cell_type": "code",
   "execution_count": 153,
   "id": "965dc900",
   "metadata": {},
   "outputs": [
    {
     "data": {
      "text/plain": [
       "(4, 7)"
      ]
     },
     "execution_count": 153,
     "metadata": {},
     "output_type": "execute_result"
    }
   ],
   "source": [
    "a.shape"
   ]
  },
  {
   "cell_type": "code",
   "execution_count": 154,
   "id": "ee1767c4",
   "metadata": {},
   "outputs": [
    {
     "data": {
      "text/plain": [
       "array([[[[ 0,  1,  2],\n",
       "         [ 7,  8,  9],\n",
       "         [14, 15, 16],\n",
       "         [21, 22, 23]],\n",
       "\n",
       "        [[ 2,  3,  4],\n",
       "         [ 9, 10, 11],\n",
       "         [16, 17, 18],\n",
       "         [23, 24, 25]],\n",
       "\n",
       "        [[ 4,  5,  6],\n",
       "         [11, 12, 13],\n",
       "         [18, 19, 20],\n",
       "         [25, 26, 27]]]])"
      ]
     },
     "execution_count": 154,
     "metadata": {},
     "output_type": "execute_result"
    }
   ],
   "source": [
    "v = sliding_window_view(a, (4, 3))[:, ::2]\n",
    "v"
   ]
  },
  {
   "cell_type": "code",
   "execution_count": 155,
   "id": "876d0bda",
   "metadata": {},
   "outputs": [
    {
     "data": {
      "text/plain": [
       "(180, 3000, 2)"
      ]
     },
     "execution_count": 155,
     "metadata": {},
     "output_type": "execute_result"
    }
   ],
   "source": [
    "arr.shape"
   ]
  },
  {
   "cell_type": "code",
   "execution_count": 156,
   "id": "3deb1f84",
   "metadata": {},
   "outputs": [],
   "source": [
    "v = sliding_window_view(arr[:, :, 0], window_shape=(180, 200))[:, ::50]"
   ]
  },
  {
   "cell_type": "code",
   "execution_count": 157,
   "id": "59b757cd",
   "metadata": {},
   "outputs": [
    {
     "data": {
      "text/plain": [
       "0.14526025500000006"
      ]
     },
     "execution_count": 157,
     "metadata": {},
     "output_type": "execute_result"
    }
   ],
   "source": [
    "window_arr = np.mean(v, axis=3)[0].T\n",
    "window_arr[0, 0]"
   ]
  },
  {
   "cell_type": "code",
   "execution_count": 158,
   "id": "77c61721",
   "metadata": {},
   "outputs": [
    {
     "data": {
      "text/plain": [
       "0.145260255"
      ]
     },
     "execution_count": 158,
     "metadata": {},
     "output_type": "execute_result"
    }
   ],
   "source": [
    "np.sum(arr[0, :200, 0])/200"
   ]
  },
  {
   "cell_type": "markdown",
   "id": "cdcf4ae3",
   "metadata": {},
   "source": [
    "### Sliding windows on 3D-Array \n",
    "\n",
    "I tried applying this to 3D-Array but it did'nt work. Use for-loop instead"
   ]
  },
  {
   "cell_type": "code",
   "execution_count": 159,
   "id": "51ba1742",
   "metadata": {},
   "outputs": [
    {
     "data": {
      "text/plain": [
       "array([[-0.947867,  1.117765,  1.959319, ...,  0.225208,  0.735241,\n",
       "         1.321778],\n",
       "       [ 0.148703,  0.148703,  0.454723, ...,  1.015759,  0.735241,\n",
       "        -0.106313],\n",
       "       [ 0.225208,  0.352716,  0.301713, ..., -0.386831,  0.148703,\n",
       "         0.735241],\n",
       "       ...,\n",
       "       [ 0.0977  , -0.106313, -0.004307, ...,  0.174205,  0.072198,\n",
       "        -0.029808],\n",
       "       [ 0.199706,  0.327214,  0.123201, ...,  0.199706,  0.429221,\n",
       "         0.199706],\n",
       "       [ 0.174205,  0.454723,  0.072198, ...,  0.046696,  0.046696,\n",
       "         0.199706]])"
      ]
     },
     "execution_count": 159,
     "metadata": {},
     "output_type": "execute_result"
    }
   ],
   "source": [
    "arr[28:, :, 0]"
   ]
  },
  {
   "cell_type": "code",
   "execution_count": 160,
   "id": "9c691e64",
   "metadata": {},
   "outputs": [],
   "source": [
    "def apply_sliding_windows(array, window_size=200, overlap=None): \n",
    "    if overlap is None: \n",
    "        overlap = int(0.25 * window_size)\n",
    "    windows = sliding_window_view(array, window_shape=(array.shape[0], window_size))[:, ::overlap]\n",
    "    return np.mean(windows, axis=3)[0].T"
   ]
  },
  {
   "cell_type": "code",
   "execution_count": 161,
   "id": "88f4d227",
   "metadata": {},
   "outputs": [
    {
     "data": {
      "text/plain": [
       "0.14424018"
      ]
     },
     "execution_count": 161,
     "metadata": {},
     "output_type": "execute_result"
    }
   ],
   "source": [
    "# check \n",
    "arr.shape\n",
    "np.sum(arr[0, 100:300, 0]) / 200 "
   ]
  },
  {
   "cell_type": "code",
   "execution_count": 162,
   "id": "32ff6487",
   "metadata": {},
   "outputs": [
    {
     "data": {
      "text/plain": [
       "0.14424018"
      ]
     },
     "execution_count": 162,
     "metadata": {},
     "output_type": "execute_result"
    }
   ],
   "source": [
    "apply_sliding_windows(arr[:, :, 0])[0, 2]"
   ]
  },
  {
   "cell_type": "code",
   "execution_count": 163,
   "id": "35d8a7a2",
   "metadata": {},
   "outputs": [
    {
     "data": {
      "text/plain": [
       "array([[ 1.5,  2.5,  3.5,  4.5],\n",
       "       [ 8.5,  9.5, 10.5, 11.5],\n",
       "       [15.5, 16.5, 17.5, 18.5],\n",
       "       [22.5, 23.5, 24.5, 25.5]])"
      ]
     },
     "execution_count": 163,
     "metadata": {},
     "output_type": "execute_result"
    }
   ],
   "source": [
    "a = np.arange(28).reshape(4, 7)\n",
    "apply_sliding_windows(a, 4)"
   ]
  },
  {
   "cell_type": "code",
   "execution_count": 164,
   "id": "c1e13621",
   "metadata": {},
   "outputs": [
    {
     "data": {
      "text/plain": [
       "array([[ 0,  1,  2,  3,  4,  5,  6],\n",
       "       [ 7,  8,  9, 10, 11, 12, 13],\n",
       "       [14, 15, 16, 17, 18, 19, 20],\n",
       "       [21, 22, 23, 24, 25, 26, 27]])"
      ]
     },
     "execution_count": 164,
     "metadata": {},
     "output_type": "execute_result"
    }
   ],
   "source": [
    "b = np.arange(28).reshape(4, 7)\n",
    "c = np.arange(28, 56).reshape(4, 7)\n",
    "d = np.dstack([b, c])\n",
    "d[:, :, 0]"
   ]
  },
  {
   "cell_type": "code",
   "execution_count": 165,
   "id": "55dbaabb",
   "metadata": {},
   "outputs": [
    {
     "data": {
      "text/plain": [
       "array([[28, 29, 30, 31, 32, 33, 34],\n",
       "       [35, 36, 37, 38, 39, 40, 41],\n",
       "       [42, 43, 44, 45, 46, 47, 48],\n",
       "       [49, 50, 51, 52, 53, 54, 55]])"
      ]
     },
     "execution_count": 165,
     "metadata": {},
     "output_type": "execute_result"
    }
   ],
   "source": [
    "d[:, :, 1]"
   ]
  },
  {
   "cell_type": "code",
   "execution_count": 166,
   "id": "cd37ba2d",
   "metadata": {},
   "outputs": [],
   "source": [
    "w = sliding_window_view(d, window_shape=(4, 3, 1))[0, ::2, :, :, :, 0]"
   ]
  },
  {
   "cell_type": "code",
   "execution_count": 167,
   "id": "664e887a",
   "metadata": {},
   "outputs": [
    {
     "data": {
      "text/plain": [
       "(3, 2, 4, 3)"
      ]
     },
     "execution_count": 167,
     "metadata": {},
     "output_type": "execute_result"
    }
   ],
   "source": [
    "w.shape"
   ]
  },
  {
   "cell_type": "code",
   "execution_count": 168,
   "id": "8c610d11",
   "metadata": {},
   "outputs": [],
   "source": [
    "z = np.transpose(np.mean(w, axis=3), (2, 0, 1))"
   ]
  },
  {
   "cell_type": "code",
   "execution_count": 169,
   "id": "30fedf97",
   "metadata": {},
   "outputs": [
    {
     "data": {
      "text/plain": [
       "array([[[ 1., 29.],\n",
       "        [ 3., 31.],\n",
       "        [ 5., 33.]],\n",
       "\n",
       "       [[ 8., 36.],\n",
       "        [10., 38.],\n",
       "        [12., 40.]],\n",
       "\n",
       "       [[15., 43.],\n",
       "        [17., 45.],\n",
       "        [19., 47.]],\n",
       "\n",
       "       [[22., 50.],\n",
       "        [24., 52.],\n",
       "        [26., 54.]]])"
      ]
     },
     "execution_count": 169,
     "metadata": {},
     "output_type": "execute_result"
    }
   ],
   "source": [
    "z"
   ]
  },
  {
   "cell_type": "code",
   "execution_count": 170,
   "id": "85465ad5",
   "metadata": {},
   "outputs": [
    {
     "data": {
      "text/plain": [
       "(4, 3, 2)"
      ]
     },
     "execution_count": 170,
     "metadata": {},
     "output_type": "execute_result"
    }
   ],
   "source": [
    "z.shape"
   ]
  },
  {
   "cell_type": "code",
   "execution_count": 171,
   "id": "38a213fc",
   "metadata": {},
   "outputs": [
    {
     "data": {
      "text/plain": [
       "array([[ 1.,  3.,  5.],\n",
       "       [ 8., 10., 12.],\n",
       "       [15., 17., 19.],\n",
       "       [22., 24., 26.]])"
      ]
     },
     "execution_count": 171,
     "metadata": {},
     "output_type": "execute_result"
    }
   ],
   "source": [
    "z[:, : , 0]"
   ]
  },
  {
   "cell_type": "code",
   "execution_count": 172,
   "id": "1b41b178",
   "metadata": {},
   "outputs": [],
   "source": [
    "def apply_sliding_windows_3axis(array, window_size=200, overlap=None):\n",
    "    if overlap is None: \n",
    "        overlap = int(0.25 * window_size)\n",
    "    w = sliding_window_view(array, (array.shape[0], window_size, 1))[0, ::overlap, :, :, :, 0]\n",
    "    return np.transpose(np.mean(w, axis=3), (2, 0, 1))"
   ]
  },
  {
   "cell_type": "code",
   "execution_count": 173,
   "id": "8cda87ee",
   "metadata": {},
   "outputs": [
    {
     "data": {
      "text/plain": [
       "(180, 57, 2)"
      ]
     },
     "execution_count": 173,
     "metadata": {},
     "output_type": "execute_result"
    }
   ],
   "source": [
    "arr = apply_sliding_windows_3axis(arr)\n",
    "arr.shape"
   ]
  },
  {
   "cell_type": "markdown",
   "id": "249d86cf",
   "metadata": {},
   "source": [
    "### Seperate Train an test data"
   ]
  },
  {
   "cell_type": "code",
   "execution_count": 174,
   "id": "0d138ac4",
   "metadata": {},
   "outputs": [
    {
     "data": {
      "text/plain": [
       "(180, 6)"
      ]
     },
     "execution_count": 174,
     "metadata": {},
     "output_type": "execute_result"
    }
   ],
   "source": [
    "output.shape"
   ]
  },
  {
   "cell_type": "code",
   "execution_count": 175,
   "id": "90b25e8f",
   "metadata": {},
   "outputs": [
    {
     "data": {
      "text/plain": [
       "(180, 57, 2)"
      ]
     },
     "execution_count": 175,
     "metadata": {},
     "output_type": "execute_result"
    }
   ],
   "source": [
    "arr.shape"
   ]
  },
  {
   "cell_type": "code",
   "execution_count": 176,
   "id": "cd0b4470",
   "metadata": {},
   "outputs": [],
   "source": [
    "def split_data(x, y, test_size=0.33): \n",
    "    \"\"\" Returns the data splitted into train and test data on the row\"\"\"\n",
    "    assert len(x) == len(y)\n",
    "    permutation = np.random.RandomState(seed=42).permutation(len(x))\n",
    "    return x[permutation][int(test_size * len(x)):], x[permutation][:int(test_size * len(x))], y[permutation][int(test_size * len(x)):], y[permutation][:int(test_size * len(x))]"
   ]
  },
  {
   "cell_type": "code",
   "execution_count": 177,
   "id": "65b486a2",
   "metadata": {},
   "outputs": [
    {
     "data": {
      "text/plain": [
       "(array([0.14181756, 0.14704539, 0.1457703 , 0.14143504, 0.140925  ,\n",
       "        0.14054247, 0.13990493, 0.1453878 , 0.1422001 , 0.14271012,\n",
       "        0.14309266, 0.13977743, 0.14041496, 0.13786482, 0.13607968,\n",
       "        0.13811983, 0.14092502, 0.13964993, 0.14156257, 0.14003245,\n",
       "        0.13722726, 0.14475024, 0.13901237, 0.14041497, 0.14079749,\n",
       "        0.13646221, 0.14207256, 0.14143503, 0.14194509, 0.1434752 ,\n",
       "        0.14105256, 0.14347518, 0.14334766, 0.13977743, 0.14207257,\n",
       "        0.13901239, 0.1407975 , 0.14156254, 0.1395224 , 0.13875737,\n",
       "        0.13773729, 0.13837483, 0.13964991, 0.13862982, 0.13684472,\n",
       "        0.14066995, 0.14169003, 0.14385767, 0.14577028, 0.14245508,\n",
       "        0.1441127 , 0.14220009, 0.14015998, 0.14130756, 0.14105256,\n",
       "        0.14258264, 0.14283766]),\n",
       " array([0., 0., 0., 1., 0., 0.], dtype=float32))"
      ]
     },
     "execution_count": 177,
     "metadata": {},
     "output_type": "execute_result"
    }
   ],
   "source": [
    "x_train, x_test, y_train, y_test = split_data(arr, output, 0.2)\n",
    "x_train[0, :, 0], y_train[0]"
   ]
  },
  {
   "cell_type": "code",
   "execution_count": 178,
   "id": "f8ababab",
   "metadata": {},
   "outputs": [
    {
     "data": {
      "text/plain": [
       "(array([0.14143503, 0.13034184, 0.13735479, 0.13786485, 0.13646224,\n",
       "        0.14730042, 0.1346771 , 0.14781044, 0.15507843, 0.14755544,\n",
       "        0.1530383 , 0.14245513, 0.12906677, 0.14028751, 0.14041503,\n",
       "        0.13276455, 0.1495956 , 0.13862989, 0.14334768, 0.15890368,\n",
       "        0.14768298, 0.14870305, 0.14360273, 0.13595222, 0.12753666,\n",
       "        0.14322015, 0.14169004, 0.12944929, 0.13773733, 0.13607973,\n",
       "        0.13429463, 0.1493406 , 0.14985064, 0.1351872 , 0.14526034,\n",
       "        0.13786485, 0.13990495, 0.15227326, 0.15036064, 0.14003249,\n",
       "        0.13735482, 0.14360269, 0.13569718, 0.15265574, 0.15941368,\n",
       "        0.15112566, 0.15431338, 0.15163571, 0.15278331, 0.14003251,\n",
       "        0.1275367 , 0.14449529, 0.13467714, 0.14934057, 0.15265578,\n",
       "        0.14615287, 0.14844802]),\n",
       " array([1., 0., 0., 0., 0., 0.], dtype=float32))"
      ]
     },
     "execution_count": 178,
     "metadata": {},
     "output_type": "execute_result"
    }
   ],
   "source": [
    "x_test[0, :, 0], y_test[0]"
   ]
  },
  {
   "cell_type": "markdown",
   "id": "49fe3571",
   "metadata": {},
   "source": [
    "### Train the lstm model"
   ]
  },
  {
   "cell_type": "code",
   "execution_count": 179,
   "id": "e61053e5",
   "metadata": {},
   "outputs": [],
   "source": [
    "from keras.models import Sequential\n",
    "from keras.layers import LSTM, Dropout, Dense\n"
   ]
  },
  {
   "cell_type": "code",
   "execution_count": 180,
   "id": "07ce694f",
   "metadata": {},
   "outputs": [],
   "source": [
    "epochs, batch_size = 15, 64\n",
    "verbose, n_steps, n_length = 0, 4, 32\n",
    "n_timesteps, n_features, n_outputs = x_train.shape[1], x_train.shape[2], y_train.shape[1]\n",
    "\n",
    "input_shape = (n_timesteps, n_features)"
   ]
  },
  {
   "cell_type": "code",
   "execution_count": 181,
   "id": "467a156f",
   "metadata": {},
   "outputs": [],
   "source": [
    "model = Sequential()\n",
    "model.add(LSTM(57, input_shape=input_shape))\n",
    "model.add(Dropout(0.5))\n",
    "model.add(Dense(64, activation=\"relu\"))\n",
    "model.add(Dense(n_outputs, activation=\"softmax\"))"
   ]
  },
  {
   "cell_type": "code",
   "execution_count": 194,
   "id": "d65ca058",
   "metadata": {},
   "outputs": [
    {
     "data": {
      "text/plain": [
       "<keras.callbacks.History at 0x7fea5ce61cd0>"
      ]
     },
     "execution_count": 194,
     "metadata": {},
     "output_type": "execute_result"
    }
   ],
   "source": [
    "model.compile(loss=\"categorical_crossentropy\", optimizer=\"adam\", metrics=[\"accuracy\"])\n",
    "model.fit(x_train, y_train, epochs=epochs, batch_size=batch_size, verbose=verbose)"
   ]
  },
  {
   "cell_type": "code",
   "execution_count": 195,
   "id": "5eeb0811",
   "metadata": {},
   "outputs": [
    {
     "data": {
      "text/plain": [
       "(36, 57, 2)"
      ]
     },
     "execution_count": 195,
     "metadata": {},
     "output_type": "execute_result"
    }
   ],
   "source": [
    "x_test.shape"
   ]
  },
  {
   "cell_type": "code",
   "execution_count": 196,
   "id": "0d035e0e",
   "metadata": {},
   "outputs": [
    {
     "data": {
      "text/plain": [
       "(36, 6)"
      ]
     },
     "execution_count": 196,
     "metadata": {},
     "output_type": "execute_result"
    }
   ],
   "source": [
    "y_test.shape"
   ]
  },
  {
   "cell_type": "code",
   "execution_count": 197,
   "id": "dc0b9eb7",
   "metadata": {},
   "outputs": [
    {
     "name": "stdout",
     "output_type": "stream",
     "text": [
      "WARNING:tensorflow:5 out of the last 6 calls to <function Model.make_test_function.<locals>.test_function at 0x7feaa2348f70> triggered tf.function retracing. Tracing is expensive and the excessive number of tracings could be due to (1) creating @tf.function repeatedly in a loop, (2) passing tensors with different shapes, (3) passing Python objects instead of tensors. For (1), please define your @tf.function outside of the loop. For (2), @tf.function has reduce_retracing=True option that can avoid unnecessary retracing. For (3), please refer to https://www.tensorflow.org/guide/function#controlling_retracing and https://www.tensorflow.org/api_docs/python/tf/function for  more details.\n"
     ]
    }
   ],
   "source": [
    "_, accuracy = model.evaluate(x_train, y_train, batch_size=batch_size, verbose=verbose)"
   ]
  },
  {
   "cell_type": "code",
   "execution_count": 198,
   "id": "6ac6b727",
   "metadata": {},
   "outputs": [
    {
     "data": {
      "text/plain": [
       "'Accuracy: 0.1806'"
      ]
     },
     "execution_count": 198,
     "metadata": {},
     "output_type": "execute_result"
    }
   ],
   "source": [
    "'Accuracy: {:.4f}'.format(accuracy)"
   ]
  },
  {
   "cell_type": "code",
   "execution_count": 193,
   "id": "b8a0ba10",
   "metadata": {},
   "outputs": [
    {
     "data": {
      "text/plain": [
       "array([[1., 0., 0., 0., 0., 0.],\n",
       "       [0., 1., 0., 0., 0., 0.],\n",
       "       [0., 0., 0., 0., 0., 1.],\n",
       "       [0., 0., 1., 0., 0., 0.],\n",
       "       [0., 0., 0., 0., 1., 0.],\n",
       "       [1., 0., 0., 0., 0., 0.],\n",
       "       [1., 0., 0., 0., 0., 0.],\n",
       "       [0., 0., 1., 0., 0., 0.],\n",
       "       [0., 0., 0., 1., 0., 0.],\n",
       "       [0., 0., 0., 1., 0., 0.],\n",
       "       [0., 0., 0., 1., 0., 0.],\n",
       "       [0., 0., 0., 0., 0., 1.],\n",
       "       [0., 0., 1., 0., 0., 0.],\n",
       "       [0., 0., 0., 0., 1., 0.],\n",
       "       [0., 1., 0., 0., 0., 0.],\n",
       "       [1., 0., 0., 0., 0., 0.],\n",
       "       [0., 1., 0., 0., 0., 0.],\n",
       "       [0., 0., 0., 0., 1., 0.],\n",
       "       [0., 0., 0., 1., 0., 0.],\n",
       "       [0., 1., 0., 0., 0., 0.],\n",
       "       [0., 0., 0., 1., 0., 0.],\n",
       "       [0., 0., 0., 0., 1., 0.],\n",
       "       [0., 0., 0., 0., 1., 0.],\n",
       "       [0., 1., 0., 0., 0., 0.],\n",
       "       [1., 0., 0., 0., 0., 0.],\n",
       "       [0., 0., 0., 0., 0., 1.],\n",
       "       [0., 0., 1., 0., 0., 0.],\n",
       "       [1., 0., 0., 0., 0., 0.],\n",
       "       [0., 0., 0., 0., 1., 0.],\n",
       "       [0., 0., 0., 0., 0., 1.],\n",
       "       [0., 0., 0., 1., 0., 0.],\n",
       "       [0., 1., 0., 0., 0., 0.],\n",
       "       [0., 0., 0., 0., 1., 0.],\n",
       "       [0., 0., 0., 0., 1., 0.],\n",
       "       [0., 0., 1., 0., 0., 0.],\n",
       "       [1., 0., 0., 0., 0., 0.]], dtype=float32)"
      ]
     },
     "execution_count": 193,
     "metadata": {},
     "output_type": "execute_result"
    }
   ],
   "source": [
    "y_test"
   ]
  },
  {
   "cell_type": "code",
   "execution_count": null,
   "id": "64b0755d",
   "metadata": {},
   "outputs": [],
   "source": []
  },
  {
   "cell_type": "code",
   "execution_count": null,
   "id": "a8d7d1f4",
   "metadata": {},
   "outputs": [],
   "source": []
  }
 ],
 "metadata": {
  "kernelspec": {
   "display_name": "Python 3 (ipykernel)",
   "language": "python",
   "name": "python3"
  },
  "language_info": {
   "codemirror_mode": {
    "name": "ipython",
    "version": 3
   },
   "file_extension": ".py",
   "mimetype": "text/x-python",
   "name": "python",
   "nbconvert_exporter": "python",
   "pygments_lexer": "ipython3",
   "version": "3.9.15"
  }
 },
 "nbformat": 4,
 "nbformat_minor": 5
}
